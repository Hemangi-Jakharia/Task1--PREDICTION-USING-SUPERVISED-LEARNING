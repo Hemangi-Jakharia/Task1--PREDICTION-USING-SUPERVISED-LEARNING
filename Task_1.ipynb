{
  "nbformat": 4,
  "nbformat_minor": 5,
  "metadata": {
    "kernelspec": {
      "display_name": "Python 3",
      "language": "python",
      "name": "python3"
    },
    "language_info": {
      "codemirror_mode": {
        "name": "ipython",
        "version": 3
      },
      "file_extension": ".py",
      "mimetype": "text/x-python",
      "name": "python",
      "nbconvert_exporter": "python",
      "pygments_lexer": "ipython3",
      "version": "3.8.8"
    },
    "colab": {
      "name": "Task 1.ipynb",
      "provenance": []
    }
  },
  "cells": [
    {
      "cell_type": "markdown",
      "metadata": {
        "id": "Grm5GrjdF9pT"
      },
      "source": [
        "# Data Science & Business Analytics Task-1\n"
      ],
      "id": "Grm5GrjdF9pT"
    },
    {
      "cell_type": "markdown",
      "metadata": {
        "id": "cdb2feff"
      },
      "source": [
        "### Topic: PREDICTION USING SUPERVISED LEARNING\n",
        "### Author : Hemangi Jakharia\n",
        "### TASK 1:Predict the percentage of a student based on the number of study hours\n"
      ],
      "id": "cdb2feff"
    },
    {
      "cell_type": "markdown",
      "metadata": {
        "id": "884dc6f2"
      },
      "source": [
        "# Step:1 --- Importing all libraries required in this notebook\n"
      ],
      "id": "884dc6f2"
    },
    {
      "cell_type": "code",
      "metadata": {
        "scrolled": true,
        "id": "ff906f02-65de-4f36-899f-739a31d397d8"
      },
      "source": [
        "import pandas as pd\n",
        "import numpy as np\n",
        "\n",
        "import matplotlib.pyplot as plt\n",
        "%matplotlib inline\n",
        "\n",
        "\n",
        "from sklearn.model_selection import train_test_split\n",
        "from sklearn.linear_model import LinearRegression"
      ],
      "id": "ff906f02-65de-4f36-899f-739a31d397d8",
      "execution_count": null,
      "outputs": []
    },
    {
      "cell_type": "markdown",
      "metadata": {
        "id": "e25cd618"
      },
      "source": [
        "# Step:2--- Reading data from csv file and visualization\n"
      ],
      "id": "e25cd618"
    },
    {
      "cell_type": "code",
      "metadata": {
        "id": "26cd142c"
      },
      "source": [
        "data = pd.read_csv(\"http://bit.ly/w-data\")"
      ],
      "id": "26cd142c",
      "execution_count": null,
      "outputs": []
    },
    {
      "cell_type": "code",
      "metadata": {
        "colab": {
          "base_uri": "https://localhost:8080/",
          "height": 206
        },
        "id": "4709b8ee",
        "outputId": "44fb32da-5c7d-4313-9d81-de55993a94f0"
      },
      "source": [
        "data.head()"
      ],
      "id": "4709b8ee",
      "execution_count": null,
      "outputs": [
        {
          "output_type": "execute_result",
          "data": {
            "text/html": [
              "<div>\n",
              "<style scoped>\n",
              "    .dataframe tbody tr th:only-of-type {\n",
              "        vertical-align: middle;\n",
              "    }\n",
              "\n",
              "    .dataframe tbody tr th {\n",
              "        vertical-align: top;\n",
              "    }\n",
              "\n",
              "    .dataframe thead th {\n",
              "        text-align: right;\n",
              "    }\n",
              "</style>\n",
              "<table border=\"1\" class=\"dataframe\">\n",
              "  <thead>\n",
              "    <tr style=\"text-align: right;\">\n",
              "      <th></th>\n",
              "      <th>Hours</th>\n",
              "      <th>Scores</th>\n",
              "    </tr>\n",
              "  </thead>\n",
              "  <tbody>\n",
              "    <tr>\n",
              "      <th>0</th>\n",
              "      <td>2.5</td>\n",
              "      <td>21</td>\n",
              "    </tr>\n",
              "    <tr>\n",
              "      <th>1</th>\n",
              "      <td>5.1</td>\n",
              "      <td>47</td>\n",
              "    </tr>\n",
              "    <tr>\n",
              "      <th>2</th>\n",
              "      <td>3.2</td>\n",
              "      <td>27</td>\n",
              "    </tr>\n",
              "    <tr>\n",
              "      <th>3</th>\n",
              "      <td>8.5</td>\n",
              "      <td>75</td>\n",
              "    </tr>\n",
              "    <tr>\n",
              "      <th>4</th>\n",
              "      <td>3.5</td>\n",
              "      <td>30</td>\n",
              "    </tr>\n",
              "  </tbody>\n",
              "</table>\n",
              "</div>"
            ],
            "text/plain": [
              "   Hours  Scores\n",
              "0    2.5      21\n",
              "1    5.1      47\n",
              "2    3.2      27\n",
              "3    8.5      75\n",
              "4    3.5      30"
            ]
          },
          "metadata": {
            "tags": []
          },
          "execution_count": 19
        }
      ]
    },
    {
      "cell_type": "code",
      "metadata": {
        "colab": {
          "base_uri": "https://localhost:8080/",
          "height": 300
        },
        "id": "bb26610d",
        "outputId": "dfd7fb49-e57f-4600-eeb4-4a79ecafdf33"
      },
      "source": [
        "data.describe()"
      ],
      "id": "bb26610d",
      "execution_count": null,
      "outputs": [
        {
          "output_type": "execute_result",
          "data": {
            "text/html": [
              "<div>\n",
              "<style scoped>\n",
              "    .dataframe tbody tr th:only-of-type {\n",
              "        vertical-align: middle;\n",
              "    }\n",
              "\n",
              "    .dataframe tbody tr th {\n",
              "        vertical-align: top;\n",
              "    }\n",
              "\n",
              "    .dataframe thead th {\n",
              "        text-align: right;\n",
              "    }\n",
              "</style>\n",
              "<table border=\"1\" class=\"dataframe\">\n",
              "  <thead>\n",
              "    <tr style=\"text-align: right;\">\n",
              "      <th></th>\n",
              "      <th>Hours</th>\n",
              "      <th>Scores</th>\n",
              "    </tr>\n",
              "  </thead>\n",
              "  <tbody>\n",
              "    <tr>\n",
              "      <th>count</th>\n",
              "      <td>25.000000</td>\n",
              "      <td>25.000000</td>\n",
              "    </tr>\n",
              "    <tr>\n",
              "      <th>mean</th>\n",
              "      <td>5.012000</td>\n",
              "      <td>51.480000</td>\n",
              "    </tr>\n",
              "    <tr>\n",
              "      <th>std</th>\n",
              "      <td>2.525094</td>\n",
              "      <td>25.286887</td>\n",
              "    </tr>\n",
              "    <tr>\n",
              "      <th>min</th>\n",
              "      <td>1.100000</td>\n",
              "      <td>17.000000</td>\n",
              "    </tr>\n",
              "    <tr>\n",
              "      <th>25%</th>\n",
              "      <td>2.700000</td>\n",
              "      <td>30.000000</td>\n",
              "    </tr>\n",
              "    <tr>\n",
              "      <th>50%</th>\n",
              "      <td>4.800000</td>\n",
              "      <td>47.000000</td>\n",
              "    </tr>\n",
              "    <tr>\n",
              "      <th>75%</th>\n",
              "      <td>7.400000</td>\n",
              "      <td>75.000000</td>\n",
              "    </tr>\n",
              "    <tr>\n",
              "      <th>max</th>\n",
              "      <td>9.200000</td>\n",
              "      <td>95.000000</td>\n",
              "    </tr>\n",
              "  </tbody>\n",
              "</table>\n",
              "</div>"
            ],
            "text/plain": [
              "           Hours     Scores\n",
              "count  25.000000  25.000000\n",
              "mean    5.012000  51.480000\n",
              "std     2.525094  25.286887\n",
              "min     1.100000  17.000000\n",
              "25%     2.700000  30.000000\n",
              "50%     4.800000  47.000000\n",
              "75%     7.400000  75.000000\n",
              "max     9.200000  95.000000"
            ]
          },
          "metadata": {
            "tags": []
          },
          "execution_count": 20
        }
      ]
    },
    {
      "cell_type": "code",
      "metadata": {
        "colab": {
          "base_uri": "https://localhost:8080/"
        },
        "id": "0eaf0928",
        "outputId": "c3a7a355-c865-4b02-f7aa-1a4c9927e64c"
      },
      "source": [
        "data.isnull().sum()"
      ],
      "id": "0eaf0928",
      "execution_count": null,
      "outputs": [
        {
          "output_type": "execute_result",
          "data": {
            "text/plain": [
              "Hours     0\n",
              "Scores    0\n",
              "dtype: int64"
            ]
          },
          "metadata": {
            "tags": []
          },
          "execution_count": 21
        }
      ]
    },
    {
      "cell_type": "markdown",
      "metadata": {
        "id": "380426e1"
      },
      "source": [
        "# Step:3--- Data Visualization\n",
        "\n"
      ],
      "id": "380426e1"
    },
    {
      "cell_type": "code",
      "metadata": {
        "colab": {
          "base_uri": "https://localhost:8080/",
          "height": 313
        },
        "id": "a27ab043",
        "outputId": "2bbd08e1-afc1-4653-a0de-eceef4e47df5"
      },
      "source": [
        "data.plot(x=\"Hours\", y=\"Scores\", style=\"*\")\n",
        "plt.title(\"Hours vs Percentage\")\n",
        "plt.xlabel(\"Hours studied\")\n",
        "plt.ylabel(\"Percentage score\")"
      ],
      "id": "a27ab043",
      "execution_count": null,
      "outputs": [
        {
          "output_type": "execute_result",
          "data": {
            "text/plain": [
              "Text(0, 0.5, 'Percentage score')"
            ]
          },
          "metadata": {
            "tags": []
          },
          "execution_count": 22
        },
        {
          "output_type": "display_data",
          "data": {
            "image/png": "[encoded data removed]",
            "text/plain": [
              "<Figure size 432x288 with 1 Axes>"
            ]
          },
          "metadata": {
            "tags": [],
            "needs_background": "light"
          }
        }
      ]
    },
    {
      "cell_type": "markdown",
      "metadata": {
        "id": "b306bbb7"
      },
      "source": [
        "# Step:4 --- Preparing the data"
      ],
      "id": "b306bbb7"
    },
    {
      "cell_type": "code",
      "metadata": {
        "colab": {
          "base_uri": "https://localhost:8080/",
          "height": 206
        },
        "id": "72d635c5",
        "outputId": "c5bcc09f-0add-4874-a7da-9665c3dc9182"
      },
      "source": [
        "# Independent variable \n",
        "# Input = Hours\n",
        "x = data.drop(['Scores'], axis = 1)\n",
        "x.head()"
      ],
      "id": "72d635c5",
      "execution_count": null,
      "outputs": [
        {
          "output_type": "execute_result",
          "data": {
            "text/html": [
              "<div>\n",
              "<style scoped>\n",
              "    .dataframe tbody tr th:only-of-type {\n",
              "        vertical-align: middle;\n",
              "    }\n",
              "\n",
              "    .dataframe tbody tr th {\n",
              "        vertical-align: top;\n",
              "    }\n",
              "\n",
              "    .dataframe thead th {\n",
              "        text-align: right;\n",
              "    }\n",
              "</style>\n",
              "<table border=\"1\" class=\"dataframe\">\n",
              "  <thead>\n",
              "    <tr style=\"text-align: right;\">\n",
              "      <th></th>\n",
              "      <th>Hours</th>\n",
              "    </tr>\n",
              "  </thead>\n",
              "  <tbody>\n",
              "    <tr>\n",
              "      <th>0</th>\n",
              "      <td>2.5</td>\n",
              "    </tr>\n",
              "    <tr>\n",
              "      <th>1</th>\n",
              "      <td>5.1</td>\n",
              "    </tr>\n",
              "    <tr>\n",
              "      <th>2</th>\n",
              "      <td>3.2</td>\n",
              "    </tr>\n",
              "    <tr>\n",
              "      <th>3</th>\n",
              "      <td>8.5</td>\n",
              "    </tr>\n",
              "    <tr>\n",
              "      <th>4</th>\n",
              "      <td>3.5</td>\n",
              "    </tr>\n",
              "  </tbody>\n",
              "</table>\n",
              "</div>"
            ],
            "text/plain": [
              "   Hours\n",
              "0    2.5\n",
              "1    5.1\n",
              "2    3.2\n",
              "3    8.5\n",
              "4    3.5"
            ]
          },
          "metadata": {
            "tags": []
          },
          "execution_count": 23
        }
      ]
    },
    {
      "cell_type": "code",
      "metadata": {
        "colab": {
          "base_uri": "https://localhost:8080/",
          "height": 206
        },
        "id": "3a7606a1",
        "outputId": "8399ac21-daf7-4ea2-a9df-7e1b9e17e6d7"
      },
      "source": [
        "# Dependent variable\n",
        "# Output = Scores\n",
        "y = data.drop(['Hours'], axis = 1)\n",
        "y.head()"
      ],
      "id": "3a7606a1",
      "execution_count": null,
      "outputs": [
        {
          "output_type": "execute_result",
          "data": {
            "text/html": [
              "<div>\n",
              "<style scoped>\n",
              "    .dataframe tbody tr th:only-of-type {\n",
              "        vertical-align: middle;\n",
              "    }\n",
              "\n",
              "    .dataframe tbody tr th {\n",
              "        vertical-align: top;\n",
              "    }\n",
              "\n",
              "    .dataframe thead th {\n",
              "        text-align: right;\n",
              "    }\n",
              "</style>\n",
              "<table border=\"1\" class=\"dataframe\">\n",
              "  <thead>\n",
              "    <tr style=\"text-align: right;\">\n",
              "      <th></th>\n",
              "      <th>Scores</th>\n",
              "    </tr>\n",
              "  </thead>\n",
              "  <tbody>\n",
              "    <tr>\n",
              "      <th>0</th>\n",
              "      <td>21</td>\n",
              "    </tr>\n",
              "    <tr>\n",
              "      <th>1</th>\n",
              "      <td>47</td>\n",
              "    </tr>\n",
              "    <tr>\n",
              "      <th>2</th>\n",
              "      <td>27</td>\n",
              "    </tr>\n",
              "    <tr>\n",
              "      <th>3</th>\n",
              "      <td>75</td>\n",
              "    </tr>\n",
              "    <tr>\n",
              "      <th>4</th>\n",
              "      <td>30</td>\n",
              "    </tr>\n",
              "  </tbody>\n",
              "</table>\n",
              "</div>"
            ],
            "text/plain": [
              "   Scores\n",
              "0      21\n",
              "1      47\n",
              "2      27\n",
              "3      75\n",
              "4      30"
            ]
          },
          "metadata": {
            "tags": []
          },
          "execution_count": 24
        }
      ]
    },
    {
      "cell_type": "code",
      "metadata": {
        "id": "d58aba95"
      },
      "source": [
        "x_train, x_test, y_train, y_test = train_test_split(x,y, test_size = 0.20, random_state = 0)"
      ],
      "id": "d58aba95",
      "execution_count": null,
      "outputs": []
    },
    {
      "cell_type": "markdown",
      "metadata": {
        "id": "f165e051"
      },
      "source": [
        "# Step:5 --- Training the algorithm"
      ],
      "id": "f165e051"
    },
    {
      "cell_type": "code",
      "metadata": {
        "colab": {
          "base_uri": "https://localhost:8080/",
          "height": 295
        },
        "id": "3e098218",
        "outputId": "48ed93fd-c92f-4484-dfc7-b01f6457be39"
      },
      "source": [
        "lr = LinearRegression()  \n",
        "lr.fit(x_train, y_train)\n",
        "\n",
        "line = lr.coef_ * x + lr.intercept_\n",
        "\n",
        "plt.title(\"Linear Regression vs Trained Model\")\n",
        "plt.scatter(x, y, color='orange')\n",
        "plt.xlabel('Hours studied')\n",
        "plt.ylabel('Percentage Score')\n",
        "plt.plot(x,line);"
      ],
      "id": "3e098218",
      "execution_count": null,
      "outputs": [
        {
          "output_type": "display_data",
          "data": {
            "image/png": "[encoded data removed]",
            "text/plain": [
              "<Figure size 432x288 with 1 Axes>"
            ]
          },
          "metadata": {
            "tags": [],
            "needs_background": "light"
          }
        }
      ]
    },
    {
      "cell_type": "markdown",
      "metadata": {
        "id": "91879349"
      },
      "source": [
        "#Step:6 ---Prediction"
      ],
      "id": "91879349"
    },
    {
      "cell_type": "code",
      "metadata": {
        "colab": {
          "base_uri": "https://localhost:8080/"
        },
        "id": "d8b8a5b3",
        "outputId": "219490bf-6bf0-4ea4-fe50-17b0e4e09b5c"
      },
      "source": [
        "print(x_test)"
      ],
      "id": "d8b8a5b3",
      "execution_count": null,
      "outputs": [
        {
          "output_type": "stream",
          "text": [
            "    Hours\n",
            "5     1.5\n",
            "2     3.2\n",
            "19    7.4\n",
            "16    2.5\n",
            "11    5.9\n"
          ],
          "name": "stdout"
        }
      ]
    },
    {
      "cell_type": "code",
      "metadata": {
        "colab": {
          "base_uri": "https://localhost:8080/"
        },
        "id": "4489c340",
        "outputId": "6dce802e-46fe-439f-c4f8-682ebca0ee1c"
      },
      "source": [
        "y_pred = lr.predict(x_test)\n",
        "y_pred"
      ],
      "id": "4489c340",
      "execution_count": null,
      "outputs": [
        {
          "output_type": "execute_result",
          "data": {
            "text/plain": [
              "array([[16.88414476],\n",
              "       [33.73226078],\n",
              "       [75.357018  ],\n",
              "       [26.79480124],\n",
              "       [60.49103328]])"
            ]
          },
          "metadata": {
            "tags": []
          },
          "execution_count": 28
        }
      ]
    },
    {
      "cell_type": "code",
      "metadata": {
        "id": "cc3d8b0e"
      },
      "source": [
        "y_test = y_test.values\n"
      ],
      "id": "cc3d8b0e",
      "execution_count": null,
      "outputs": []
    },
    {
      "cell_type": "code",
      "metadata": {
        "scrolled": true,
        "id": "ff7b3623"
      },
      "source": [
        "# df = pd.DataFrame([{'Actual': list(y_test), 'Predicted': list(y_pred)}])\n",
        "# df"
      ],
      "id": "ff7b3623",
      "execution_count": null,
      "outputs": []
    },
    {
      "cell_type": "code",
      "metadata": {
        "colab": {
          "base_uri": "https://localhost:8080/"
        },
        "id": "905a6d47",
        "outputId": "4d93e60b-4613-425f-d08f-1e34946b8988"
      },
      "source": [
        "# Actual VS Predicted\n",
        "list(zip(y_test,y_pred))"
      ],
      "id": "905a6d47",
      "execution_count": null,
      "outputs": [
        {
          "output_type": "execute_result",
          "data": {
            "text/plain": [
              "[(array([20]), array([16.88414476])),\n",
              " (array([27]), array([33.73226078])),\n",
              " (array([69]), array([75.357018])),\n",
              " (array([30]), array([26.79480124])),\n",
              " (array([62]), array([60.49103328]))]"
            ]
          },
          "metadata": {
            "tags": []
          },
          "execution_count": 31
        }
      ]
    },
    {
      "cell_type": "markdown",
      "metadata": {
        "id": "1c3c095a"
      },
      "source": [
        "# Step:7 ---Solution"
      ],
      "id": "1c3c095a"
    },
    {
      "cell_type": "code",
      "metadata": {
        "colab": {
          "base_uri": "https://localhost:8080/"
        },
        "id": "5d7098a7",
        "outputId": "b3944ed4-1465-4791-aba5-ebe8668f0269"
      },
      "source": [
        "hour =[9.25]\n",
        "pred=lr.predict([hour])\n",
        "\n",
        "print(\"No of Hours = {}\".format(hour))\n",
        "print(\"Predicted Score = {:.2f}\".format(pred[0][0]))"
      ],
      "id": "5d7098a7",
      "execution_count": null,
      "outputs": [
        {
          "output_type": "stream",
          "text": [
            "No of Hours = [9.25]\n",
            "Predicted Score = 93.69\n"
          ],
          "name": "stdout"
        }
      ]
    },
    {
      "cell_type": "code",
      "metadata": {
        "colab": {
          "base_uri": "https://localhost:8080/"
        },
        "id": "4f9f35e0",
        "outputId": "9e8c6c1f-0f37-44d6-905b-dd95b4f758b1"
      },
      "source": [
        "hours = 9.25\n",
        "pred2=np.array([hours])\n",
        "print(pred2)\n",
        "pred2=pred2.reshape(-1,1)\n",
        "print(pred)\n",
        "pred2 = lr.predict([[9.5]])\n",
        "print(\"No of Hours = {}\".format(hours))\n",
        "print(\"Predicted Score = {:.2f}\".format(pred2[0][0]))"
      ],
      "id": "4f9f35e0",
      "execution_count": null,
      "outputs": [
        {
          "output_type": "stream",
          "text": [
            "[9.25]\n",
            "[[93.69173249]]\n",
            "No of Hours = 9.25\n",
            "Predicted Score = 96.17\n"
          ],
          "name": "stdout"
        }
      ]
    },
    {
      "cell_type": "code",
      "metadata": {
        "colab": {
          "base_uri": "https://localhost:8080/"
        },
        "id": "2c1cbdad",
        "outputId": "8902619d-7b41-44b4-a93c-ea0c98518351"
      },
      "source": [
        "hours = 9.25\n",
        "pred2=np.array([hours])\n",
        "print(pred2)\n",
        "\n",
        "pred2 = lr.predict([[hours]])\n",
        "print(\"No of Hours = {}\".format(hours))\n",
        "print(\"Predicted Score = {:.2f}\".format(pred2[0][0]))"
      ],
      "id": "2c1cbdad",
      "execution_count": null,
      "outputs": [
        {
          "output_type": "stream",
          "text": [
            "[9.25]\n",
            "No of Hours = 9.25\n",
            "Predicted Score = 93.69\n"
          ],
          "name": "stdout"
        }
      ]
    },
    {
      "cell_type": "markdown",
      "metadata": {
        "id": "dd6bd784"
      },
      "source": [
        "# Step:8 ---Evaluating the model"
      ],
      "id": "dd6bd784"
    },
    {
      "cell_type": "code",
      "metadata": {
        "id": "e94de0be"
      },
      "source": [
        "from sklearn import metrics"
      ],
      "id": "e94de0be",
      "execution_count": null,
      "outputs": []
    },
    {
      "cell_type": "code",
      "metadata": {
        "colab": {
          "base_uri": "https://localhost:8080/"
        },
        "id": "e471a2d6",
        "outputId": "00870ee6-8327-4ec0-fc6b-2a72d3af165a"
      },
      "source": [
        "print('Mean absolute error : ', metrics.mean_absolute_error(y_test, y_pred))\n",
        "\n",
        "print('\\nMean squared error : ', metrics.mean_absolute_error(y_test, y_pred))\n",
        "\n",
        "print('\\nRoot mean squared error : ', np.sqrt(metrics.mean_absolute_error(y_test, y_pred)))\n",
        "\n"
      ],
      "id": "e471a2d6",
      "execution_count": null,
      "outputs": [
        {
          "output_type": "stream",
          "text": [
            "Mean absolute error :  4.183859899002982\n",
            "\n",
            "Mean squared error :  4.183859899002982\n",
            "\n",
            "Root mean squared error :  2.0454485813637513\n"
          ],
          "name": "stdout"
        }
      ]
    },
    {
      "cell_type": "code",
      "metadata": {
        "colab": {
          "base_uri": "https://localhost:8080/"
        },
        "id": "69e46876",
        "outputId": "facaaa0c-7f94-4f73-caec-609f3a7d3d45"
      },
      "source": [
        "print(\"Slope of Regression Line : \",lr.coef_[0][0])\n",
        "print(\"\\nY-intercept Of Regression Line : \",lr.intercept_[0])\n"
      ],
      "id": "69e46876",
      "execution_count": null,
      "outputs": [
        {
          "output_type": "stream",
          "text": [
            "Slope of Regression Line :  9.91065648064224\n",
            "\n",
            "Y-intercept Of Regression Line :  2.018160041434662\n"
          ],
          "name": "stdout"
        }
      ]
    }
  ]
}